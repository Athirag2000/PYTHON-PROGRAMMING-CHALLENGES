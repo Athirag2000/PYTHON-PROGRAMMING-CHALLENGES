{
 "cells": [
  {
   "cell_type": "markdown",
   "metadata": {},
   "source": [
    "## section 1"
   ]
  },
  {
   "cell_type": "markdown",
   "metadata": {},
   "source": [
    "## 1"
   ]
  },
  {
   "cell_type": "code",
   "execution_count": 2,
   "metadata": {},
   "outputs": [
    {
     "name": "stdout",
     "output_type": "stream",
     "text": [
      "Please enter your name.\n",
      "Lister\n",
      "What is your age?\n",
      "39\n",
      "What is your favourite TV programme?\n",
      "Red Dwarf\n",
      "Lister\n",
      "is\n",
      "39\n",
      "years old and likes\n",
      "Red Dwarf\n"
     ]
    }
   ],
   "source": [
    "print(\"Please enter your name.\")\n",
    "name=input()\n",
    "print(\"What is your age?\")\n",
    "age=int(input())\n",
    "print(\"What is your favourite TV programme?\")\n",
    "programme=input()\n",
    "\n",
    "print(name)\n",
    "print(\"is\")\n",
    "print(age)\n",
    "print(\"years old and likes\")\n",
    "print(programme)\n",
    "\n",
    "\n"
   ]
  },
  {
   "cell_type": "markdown",
   "metadata": {},
   "source": []
  },
  {
   "cell_type": "markdown",
   "metadata": {},
   "source": [
    "## 2"
   ]
  },
  {
   "cell_type": "code",
   "execution_count": 6,
   "metadata": {},
   "outputs": [
    {
     "name": "stdout",
     "output_type": "stream",
     "text": [
      "David \n",
      "Tennant\n",
      "Tennant David \n"
     ]
    }
   ],
   "source": [
    "name1=input()\n",
    "name2=input()\n",
    "print(name2,name1)\n"
   ]
  },
  {
   "cell_type": "markdown",
   "metadata": {},
   "source": [
    "## program 3"
   ]
  },
  {
   "cell_type": "code",
   "execution_count": 10,
   "metadata": {},
   "outputs": [
    {
     "name": "stdout",
     "output_type": "stream",
     "text": [
      "Please enter the name?\n",
      "Lister\n",
      "What is your age?\n",
      "39\n",
      "What is your favourite programme?\n",
      "Red Dwarf\n",
      "Lister 39\n",
      "Likes watching Red Dwarf\n"
     ]
    }
   ],
   "source": [
    "print(\"Please enter the name?\")\n",
    "name=input()\n",
    "print(\"What is your age?\")\n",
    "age=int(input())\n",
    "print(\"What is your favourite programme?\")\n",
    "programme=input()\n",
    "print(name,age)\n",
    "print(\"Likes watching\",programme)\n",
    "\n"
   ]
  },
  {
   "cell_type": "markdown",
   "metadata": {},
   "source": [
    "## program 4"
   ]
  },
  {
   "cell_type": "code",
   "execution_count": 14,
   "metadata": {},
   "outputs": [
    {
     "name": "stdout",
     "output_type": "stream",
     "text": [
      "KY\n",
      "8\n",
      "9\n",
      "HL\n",
      "KY8 9HL\n"
     ]
    }
   ],
   "source": [
    "letter1=input()\n",
    "number1=int(input())\n",
    "number2=int(input())\n",
    "letter2=input()\n",
    "print(letter1+str(number1),str(number2)+letter2)"
   ]
  },
  {
   "cell_type": "markdown",
   "metadata": {},
   "source": [
    "## 5"
   ]
  },
  {
   "cell_type": "code",
   "execution_count": 20,
   "metadata": {},
   "outputs": [
    {
     "name": "stdout",
     "output_type": "stream",
     "text": [
      "Please enter the number the following values in cm.\n",
      "Please enter the length of the rectangle.\n",
      "12\n",
      "Please enter the width of the rectangle\n",
      "6\n",
      "The area of the rectangle is: 72 square centimetres\n"
     ]
    }
   ],
   "source": [
    "print(\"Please enter the number the following values in cm.\")\n",
    "print(\"Please enter the length of the rectangle.\")\n",
    "length=int(input())\n",
    "print(\"Please enter the width of the rectangle\")\n",
    "width=int(input())\n",
    "area=length*width\n",
    "print(\"The area of the rectangle is:\",area,\"square centimetres\")"
   ]
  },
  {
   "cell_type": "markdown",
   "metadata": {},
   "source": [
    "## 6"
   ]
  },
  {
   "cell_type": "code",
   "execution_count": 22,
   "metadata": {},
   "outputs": [
    {
     "name": "stdout",
     "output_type": "stream",
     "text": [
      "2\n",
      "6\n",
      "26\n"
     ]
    }
   ],
   "source": [
    "a=input()\n",
    "b=input()\n",
    "total=a+b\n",
    "print(total)"
   ]
  },
  {
   "cell_type": "markdown",
   "metadata": {},
   "source": [
    "## 7"
   ]
  },
  {
   "cell_type": "code",
   "execution_count": 26,
   "metadata": {},
   "outputs": [
    {
     "name": "stdout",
     "output_type": "stream",
     "text": [
      "KY\n",
      "8\n",
      "9\n",
      "hl\n",
      "KY8 9HL\n"
     ]
    }
   ],
   "source": [
    "letter1=input()\n",
    "number1=str(input())\n",
    "number2=str(input())\n",
    "letter2=str(input())\n",
    "letter1new=letter1.upper()\n",
    "letter2new=letter2.upper()\n",
    "print(letter1+number1,number2+letter2new)"
   ]
  },
  {
   "cell_type": "markdown",
   "metadata": {},
   "source": []
  },
  {
   "cell_type": "markdown",
   "metadata": {},
   "source": [
    "## 8\n"
   ]
  },
  {
   "cell_type": "code",
   "execution_count": 27,
   "metadata": {},
   "outputs": [
    {
     "name": "stdout",
     "output_type": "stream",
     "text": [
      "Please enter your forename:\n",
      "David\n",
      "Please enter your surname:\n",
      "Stott\n"
     ]
    }
   ],
   "source": [
    "print(\"Please enter your forename:\")\n",
    "forename=input()\n",
    "print(\"Please enter your surname:\")\n",
    "surname=input()\n",
    "print\n"
   ]
  },
  {
   "cell_type": "markdown",
   "metadata": {},
   "source": [
    "## 9"
   ]
  },
  {
   "cell_type": "code",
   "execution_count": 4,
   "metadata": {},
   "outputs": [
    {
     "name": "stdout",
     "output_type": "stream",
     "text": [
      "Please enter a sentence of your choice.\n",
      "Luke, I  am your father\n",
      "There is a total of 8 vowels\n"
     ]
    }
   ],
   "source": [
    "print(\"Please enter a sentence of your choice.\")\n",
    "sentence=input()\n",
    "sentences=sentence.lower()\n",
    "a=sentences.count(\"a\")\n",
    "e=sentences.count(\"e\")\n",
    "i=sentences.count(\"i\")\n",
    "o=sentences.count(\"o\")\n",
    "u=sentences.count(\"u\")\n",
    "total=a+e+i+o+u\n",
    "print(\"There is a total of\",total,\"vowels\")"
   ]
  },
  {
   "cell_type": "markdown",
   "metadata": {},
   "source": [
    "## 10"
   ]
  },
  {
   "cell_type": "code",
   "execution_count": 13,
   "metadata": {
    "scrolled": true
   },
   "outputs": [
    {
     "name": "stdout",
     "output_type": "stream",
     "text": [
      "Please enter the male report\n",
      "He should alwways ensure that his answers contain as much as detail as possible\n",
      "Please enter the female report\n",
      "She should alwways ensure that her answers contain as much as detail as possible\n"
     ]
    }
   ],
   "source": [
    "print(\"Please enter the male report\")\n",
    "sentence=input()\n",
    "sentence_new=sentence.replace(\"He\",\"She\")\n",
    "sentence_new1=sentence_new.replace(\"his\",\"her\")\n",
    "print(\"Please enter the female report\")\n",
    "print(sentence_new1)"
   ]
  },
  {
   "cell_type": "markdown",
   "metadata": {},
   "source": [
    "## 11"
   ]
  },
  {
   "cell_type": "code",
   "execution_count": 6,
   "metadata": {},
   "outputs": [
    {
     "name": "stdout",
     "output_type": "stream",
     "text": [
      "Please enter the product name.\n",
      "Product Beans\n",
      "Please enter the year.\n",
      "2016\n",
      "The stock code for Plaza Beans is:\n",
      "Plns26\n"
     ]
    }
   ],
   "source": [
    "print(\"Please enter the product name.\")\n",
    "product_name=input()\n",
    "print(\"Please enter the year.\")\n",
    "year=input()\n",
    "print(\"The stock code for Plaza Beans is:\")\n",
    "stock_code=input()"
   ]
  },
  {
   "cell_type": "markdown",
   "metadata": {},
   "source": [
    "## 12"
   ]
  },
  {
   "cell_type": "code",
   "execution_count": 13,
   "metadata": {},
   "outputs": [
    {
     "name": "stdout",
     "output_type": "stream",
     "text": [
      "Please enter your three costs\n",
      "12.78\n",
      "6.32\n",
      "34.99\n",
      "The total cost is $ 54.09\n",
      "The auction companies fees is$ 5.0\n"
     ]
    }
   ],
   "source": [
    "print(\"Please enter your three costs\")\n",
    "cost1=float(input())\n",
    "cost2=float(input())\n",
    "cost3=float(input())\n",
    "total_cost=cost1+cost2+cost3\n",
    "print(\"The total cost is $\",total_cost)\n",
    "auction=total_cost*0.1\n",
    "print(\"The auction companies fees is$\", round(auction,0))"
   ]
  },
  {
   "cell_type": "markdown",
   "metadata": {},
   "source": [
    "## 13"
   ]
  },
  {
   "cell_type": "code",
   "execution_count": 19,
   "metadata": {},
   "outputs": [
    {
     "name": "stdout",
     "output_type": "stream",
     "text": [
      "Please enter the following value in cm.\n",
      "Please enter the radius of the circle.\n",
      "16\n",
      "The area of the circle is: 803.84\n",
      "The area of the circle is: 803.84 square centimeters\n"
     ]
    }
   ],
   "source": [
    "print(\"Please enter the following value in cm.\")\n",
    "\n",
    "print(\"Please enter the radius of the circle.\")\n",
    "r=float(input())\n",
    "area=3.14*r**2\n",
    "print(\"The area of the circle is:\",area)\n",
    "print(\"The area of the circle is:\",area,\"square centimeters\")\n"
   ]
  },
  {
   "cell_type": "markdown",
   "metadata": {},
   "source": [
    "## 14\n"
   ]
  },
  {
   "cell_type": "code",
   "execution_count": 25,
   "metadata": {},
   "outputs": [
    {
     "name": "stdout",
     "output_type": "stream",
     "text": [
      "Please enter the volume of the jar\n",
      "2712.96\n",
      "Please enter the volume of one sweet(cm3):\n",
      "2.12\n",
      "1279 sweets fit into the jar.\n"
     ]
    }
   ],
   "source": [
    "print(\"Please enter the volume of the jar\")\n",
    "volume1=float(input())\n",
    "print(\"Please enter the volume of one sweet(cm3):\")\n",
    "volume2=float(input())\n",
    "total=(volume1/volume2)\n",
    "print(int(total),\"sweets fit into the jar.\")\n"
   ]
  },
  {
   "cell_type": "markdown",
   "metadata": {},
   "source": [
    "## 15"
   ]
  },
  {
   "cell_type": "code",
   "execution_count": 37,
   "metadata": {},
   "outputs": [
    {
     "name": "stdout",
     "output_type": "stream",
     "text": [
      "Enter the area in m2 to be painted\n",
      "178\n",
      "Enter the area (m2) that a single pot covers.\n",
      "25\n",
      "You will need 8 pots of paint.\n",
      "You can paint 3 m2 with the leftover paint.\n"
     ]
    }
   ],
   "source": [
    "print(\"Enter the area in m2 to be painted\")\n",
    "area=int(input())\n",
    "print(\"Enter the area (m2) that a single pot covers.\")\n",
    "area2=int(input())\n",
    "need=(area/area2)\n",
    "print(\"You will need\",int(need+1),\"pots of paint.\")\n",
    "r=178%25\n",
    "print(\"You can paint\",r,\"m2 with the leftover paint.\")\n",
    "\n"
   ]
  },
  {
   "cell_type": "markdown",
   "metadata": {},
   "source": [
    "## 16\n"
   ]
  },
  {
   "cell_type": "code",
   "execution_count": 40,
   "metadata": {},
   "outputs": [
    {
     "name": "stdout",
     "output_type": "stream",
     "text": [
      "Please enter the length of the brick in cm:\n",
      "20\n",
      "Please enter the length of the wall in m:\n",
      "9.89\n",
      "47 bricks build one row of all\n",
      "This is  2 cm short of the required wall length. \n"
     ]
    }
   ],
   "source": [
    "print(\"Please enter the length of the brick in cm:\")\n",
    "length1=int(input())\n",
    "print(\"Please enter the length of the wall in m:\")\n",
    "length2=float(input())\n",
    "quantity=(length2*100/(length1+1))\n",
    "leftover=(length2*100%(length1+1))\n",
    "print(int(quantity),\"bricks build one row of all\")\n",
    "print(\"This is \",int(leftover),\"cm short of the required wall length. \")\n"
   ]
  },
  {
   "cell_type": "markdown",
   "metadata": {},
   "source": [
    "## 17\n"
   ]
  },
  {
   "cell_type": "code",
   "execution_count": 5,
   "metadata": {},
   "outputs": [
    {
     "name": "stdout",
     "output_type": "stream",
     "text": [
      "Enter the number of carbon atoms.\n",
      "3\n",
      "The atomic mass of C3H8 is 44 .\n"
     ]
    }
   ],
   "source": [
    "print(\"Enter the number of carbon atoms.\")\n",
    "carbon_atoms=int(input())\n",
    "number_of_H_atoms=(carbon_atoms*2)+2\n",
    "atomic_mass=(carbon_atoms*12)+number_of_H_atoms\n",
    "print(\"The atomic mass of C3H8 is\",atomic_mass,\".\")"
   ]
  },
  {
   "cell_type": "markdown",
   "metadata": {},
   "source": [
    "## 18"
   ]
  },
  {
   "cell_type": "code",
   "execution_count": 11,
   "metadata": {},
   "outputs": [
    {
     "name": "stdout",
     "output_type": "stream",
     "text": [
      "How many par 3 holes are there?\n",
      "18\n",
      "How many par 4 holes are there?\n",
      "40\n",
      "How many par 5 holes are there?\n",
      "10\n",
      "What is the difficulty adjustment for the course?\n",
      "-2\n",
      "The Standard Scratch score for the course is: 66\n"
     ]
    }
   ],
   "source": [
    "print(\"How many par 3 holes are there?\")\n",
    "hole1=int(input())\n",
    "print(\"How many par 4 holes are there?\")\n",
    "hole2=int(input())\n",
    "print(\"How many par 5 holes are there?\")\n",
    "hole3=int(input())\n",
    "print(\"What is the difficulty adjustment for the course?\")\n",
    "adjustment=int(input())\n",
    "standard_scrotch=hole1+hole2+hole3+adjustment\n",
    "print(\"The Standard Scratch score for the course is:\",standard_scrotch)"
   ]
  },
  {
   "cell_type": "markdown",
   "metadata": {},
   "source": [
    "## 19"
   ]
  },
  {
   "cell_type": "code",
   "execution_count": null,
   "metadata": {},
   "outputs": [
    {
     "name": "stdout",
     "output_type": "stream",
     "text": [
      "What is the circumference of your wheel in millimetres?\n",
      "1250\n",
      "How many wheel revolutions have taken place in your journey?\n"
     ]
    }
   ],
   "source": [
    "print(\"What is the circumference of your wheel in millimetres?\")\n",
    "circumference=int(input())\n",
    "print(\"How many wheel revolutions have taken place in your journey?\")\n",
    "revolutions=int(input())\n",
    "print(\"How many minutes did you cycle for?\")\n",
    "time=int(input())\n",
    "traveled_distance=((circumference/1000000)*revolutions)\n",
    "print(\"You covered\",traveled_distance,\"km\")\n",
    "avg_speed=(traveled_distance/(time/30))\n",
    "print(\"At an average speed of\",avg_speed,\"kmh\")\n"
   ]
  },
  {
   "cell_type": "markdown",
   "metadata": {},
   "source": [
    "## section 2"
   ]
  },
  {
   "cell_type": "markdown",
   "metadata": {},
   "source": [
    "## Program 20"
   ]
  },
  {
   "cell_type": "code",
   "execution_count": 12,
   "metadata": {},
   "outputs": [
    {
     "name": "stdout",
     "output_type": "stream",
     "text": [
      "Would you like some advice?\n",
      "Y\n",
      "Always know where your towel is.\n"
     ]
    }
   ],
   "source": [
    "print(\"Would you like some advice?\")\n",
    "advice=input()\n",
    "if advice==\"Y\":\n",
    "     print(\"Always know where your towel is.\")"
   ]
  },
  {
   "cell_type": "markdown",
   "metadata": {},
   "source": [
    "## 21"
   ]
  },
  {
   "cell_type": "code",
   "execution_count": 14,
   "metadata": {},
   "outputs": [
    {
     "name": "stdout",
     "output_type": "stream",
     "text": [
      "What is Black's score?\n",
      "88\n",
      "What is White's score?\n",
      "84\n",
      "After 6.5 is added the score is:\n",
      "Black - 88\n",
      "White - 90\n",
      "White is the winner.\n"
     ]
    }
   ],
   "source": [
    "print(\"What is Black's score?\")\n",
    "black_score=int(input())\n",
    "print(\"What is White's score?\")\n",
    "white_score=int(input())\n",
    "white_score=white_score+6\n",
    "print(\"After 6.5 is added the score is:\")\n",
    "print(\"Black -\",black_score)\n",
    "print(\"White -\",white_score)\n",
    "if white_score>black_score:\n",
    "    print(\"White is the winner.\")\n",
    "else:\n",
    "    print(\"Black is the winner\")"
   ]
  },
  {
   "cell_type": "markdown",
   "metadata": {},
   "source": [
    "## 22"
   ]
  },
  {
   "cell_type": "code",
   "execution_count": 18,
   "metadata": {},
   "outputs": [
    {
     "name": "stdout",
     "output_type": "stream",
     "text": [
      "Please enter the first amount raised.\n",
      "398\n",
      "Please enter the second amount raised.\n",
      "193\n",
      "Please enter the third amount raised.\n",
      "478\n",
      "A total of $ 1069 was raised.\n",
      "This will be doubled to $ 2138 .\n"
     ]
    }
   ],
   "source": [
    "print(\"Please enter the first amount raised.\")\n",
    "amount1=int(input())\n",
    "print(\"Please enter the second amount raised.\")\n",
    "amount2=int(input())\n",
    "print(\"Please enter the third amount raised.\")\n",
    "amount3=int(input())\n",
    "total=amount1+amount2+amount3\n",
    "if total>=1000:\n",
    "    print(\"A total of $\",total,\"was raised.\")\n",
    "    print(\"This will be doubled to $\",total*2,\".\")"
   ]
  },
  {
   "cell_type": "markdown",
   "metadata": {},
   "source": [
    "## 23"
   ]
  },
  {
   "cell_type": "code",
   "execution_count": 21,
   "metadata": {},
   "outputs": [
    {
     "name": "stdout",
     "output_type": "stream",
     "text": [
      "Rectangle 1\n",
      "Please enter the length:\n",
      "12\n",
      "Please enter the width:\n",
      "6\n",
      "Rectangle 2\n",
      "Please enter the width:\n",
      "Please enter the width:\n",
      "7\n",
      "9\n",
      "Rectangle 1 has the largest area.\n"
     ]
    }
   ],
   "source": [
    "print(\"Rectangle 1\")\n",
    "print(\"Please enter the length:\")\n",
    "length=int(input())\n",
    "print(\"Please enter the width:\")\n",
    "width=int(input())\n",
    "print(\"Rectangle 2\")\n",
    "print(\"Please enter the width:\")\n",
    "print(\"Please enter the width:\")\n",
    "length2=int(input())\n",
    "width2=int(input())\n",
    "area1=width*length\n",
    "area2=width2*length2\n",
    "if area1>area2:\n",
    "    print(\"Rectangle 1 has the largest area.\")\n",
    "else:\n",
    "    print(\"Rectangle 2 has the largest area.\")"
   ]
  },
  {
   "cell_type": "markdown",
   "metadata": {},
   "source": [
    "## 24"
   ]
  },
  {
   "cell_type": "code",
   "execution_count": 9,
   "metadata": {},
   "outputs": [
    {
     "name": "stdout",
     "output_type": "stream",
     "text": [
      "Enter the sentence 1\n",
      "You can't handle the truth.\n",
      "Enter the sentence 2\n",
      "Houston,we have a problem.\n",
      "The percentage of vowels in sentence 1 is: 25.93\n",
      "The percentage of vowels in sentence 2 is: 34.62\n",
      "Sentence 1 has  7 vowels.\n",
      "Sentence 2 has 9 vowels.\n",
      "Sentence 2 has more vowels.\n"
     ]
    }
   ],
   "source": [
    "print(\"Enter the sentence 1\")\n",
    "sentence1=input()\n",
    "print(\"Enter the sentence 2\")\n",
    "sentence2=input()\n",
    "a1=sentence1.count(\"a\")\n",
    "a2=sentence1.count(\"e\")\n",
    "a3=sentence1.count(\"i\")\n",
    "a4=sentence1.count(\"o\")\n",
    "a5=sentence1.count(\"u\")\n",
    "a6=sentence2.count(\"a\")\n",
    "a7=sentence2.count(\"e\")\n",
    "a8=sentence2.count(\"i\")\n",
    "a9=sentence2.count(\"o\")\n",
    "a10=sentence2.count(\"u\")\n",
    "vowel_1=a1+a2+a3+a4+a5\n",
    "vowel_2=a6+a7+a8+a9+a10\n",
    "percentage_1=(100/len(sentence1)*vowel_1)\n",
    "percentage_2=(100/len(sentence2)*vowel_2)\n",
    "print(\"The percentage of vowels in sentence 1 is:\",round(percentage_1,2))\n",
    "print(\"The percentage of vowels in sentence 2 is:\",round(percentage_2,2))\n",
    "print(\"Sentence 1 has \",vowel_1,\"vowels.\")\n",
    "print(\"Sentence 2 has\",vowel_2,\"vowels.\")\n",
    "if vowel_1>vowel_2:\n",
    "    print(\"Sentence 1 has more vowels.\")\n",
    "else:\n",
    "    print(\"Sentence 2 has more vowels.\")\n"
   ]
  },
  {
   "cell_type": "markdown",
   "metadata": {},
   "source": [
    "## 25"
   ]
  },
  {
   "cell_type": "code",
   "execution_count": 6,
   "metadata": {},
   "outputs": [
    {
     "name": "stdout",
     "output_type": "stream",
     "text": [
      "Would you like some advice?\n",
      "D\n",
      "Sorry,you were asked to enter Y or N.\n"
     ]
    }
   ],
   "source": [
    "print(\"Would you like some advice?\")\n",
    "advice=input()\n",
    "if advice==\"Y\":\n",
    "    print(\"Always know where your trail is.\")\n",
    "elif advice==\"N\":\n",
    "    print(\"Okay\")\n",
    "else:\n",
    "    print(\"Sorry,you were asked to enter Y or N.\")\n",
    "    \n"
   ]
  },
  {
   "cell_type": "markdown",
   "metadata": {},
   "source": [
    "## 26"
   ]
  },
  {
   "cell_type": "code",
   "execution_count": 1,
   "metadata": {},
   "outputs": [
    {
     "name": "stdout",
     "output_type": "stream",
     "text": [
      "Please enter the test speed(mph).\n",
      "50\n",
      "Please enter the tested stopping distance(m).\n",
      "39.7\n",
      "Your car failed the breaking distance set.\n"
     ]
    }
   ],
   "source": [
    "print(\"Please enter the test speed(mph).\")\n",
    "speed=int(input())\n",
    "print(\"Please enter the tested stopping distance(m).\")\n",
    "distance=float(input())\n",
    "if speed==30:\n",
    "    if distance<=14:\n",
    "        print(\"Your car passed the breaking distance set.\")\n",
    "    else:\n",
    "        print(\"Your car failed the breaking distance set.\")\n",
    "elif speed==50:\n",
    "    if distance<=38:\n",
    "        print(\"Your car passed the breaking distance set.\")\n",
    "    else:\n",
    "        print(\"Your car failed the breaking distance set.\")\n",
    "    \n",
    "\n"
   ]
  },
  {
   "cell_type": "markdown",
   "metadata": {},
   "source": [
    "## 27"
   ]
  },
  {
   "cell_type": "code",
   "execution_count": 2,
   "metadata": {},
   "outputs": [
    {
     "name": "stdout",
     "output_type": "stream",
     "text": [
      "Please enter the first amount raised.\n",
      "740\n",
      "Please enter the second amount raised.\n",
      "690\n",
      "Please enter the third amount raised.\n",
      "1024\n",
      "A total of $ 2454 was raised.\n",
      "With the company bonus,this is $ 4454\n"
     ]
    }
   ],
   "source": [
    "print(\"Please enter the first amount raised.\")\n",
    "amount1=int(input())\n",
    "print(\"Please enter the second amount raised.\")\n",
    "amount2=int(input())\n",
    "print(\"Please enter the third amount raised.\")\n",
    "amount3=int(input())\n",
    "total=amount1+amount2+amount3\n",
    "if total<1000:\n",
    "    new_amount=1000+total\n",
    "    print(\"A total of $\",total,\"was raised.\")\n",
    "    print(\"With the company bonus,this is\",new_amount)\n",
    "elif total>=1000 and total<=2000:\n",
    "    new_amount=2*total\n",
    "    print(\"A total of $\",total,\"was raised.\")\n",
    "    print(\"With the company bonus,this is $\",new_amount)\n",
    "elif total>2000:\n",
    "    new_amount=4000+(total-2000)\n",
    "    print(\"A total of $\",total,\"was raised.\")\n",
    "    print(\"With the company bonus,this is $\",new_amount)\n",
    "    \n",
    "    \n",
    "      "
   ]
  },
  {
   "cell_type": "markdown",
   "metadata": {},
   "source": [
    "## section 3"
   ]
  },
  {
   "cell_type": "markdown",
   "metadata": {},
   "source": [
    "## 28"
   ]
  },
  {
   "cell_type": "code",
   "execution_count": 8,
   "metadata": {},
   "outputs": [
    {
     "name": "stdout",
     "output_type": "stream",
     "text": [
      "Which sentence would you like copied?\n",
      "Don't behave like a muppet in class.\n",
      "Don't behave like a muppet in class.\n",
      "Don't behave like a muppet in class.\n",
      "Don't behave like a muppet in class.\n",
      "Don't behave like a muppet in class.\n",
      "Don't behave like a muppet in class.\n",
      "Don't behave like a muppet in class.\n",
      "Don't behave like a muppet in class.\n",
      "Don't behave like a muppet in class.\n",
      "Don't behave like a muppet in class.\n",
      "Don't behave like a muppet in class.\n",
      "Don't behave like a muppet in class.\n",
      "Don't behave like a muppet in class.\n",
      "Don't behave like a muppet in class.\n",
      "Don't behave like a muppet in class.\n",
      "Don't behave like a muppet in class.\n",
      "Don't behave like a muppet in class.\n",
      "Don't behave like a muppet in class.\n",
      "Don't behave like a muppet in class.\n",
      "Don't behave like a muppet in class.\n",
      "Don't behave like a muppet in class.\n"
     ]
    }
   ],
   "source": [
    "print(\"Which sentence would you like copied?\")\n",
    "sentence=input()\n",
    "for i in range(20):\n",
    "    print(sentence)"
   ]
  },
  {
   "cell_type": "markdown",
   "metadata": {},
   "source": [
    "## 29"
   ]
  },
  {
   "cell_type": "code",
   "execution_count": null,
   "metadata": {},
   "outputs": [],
   "source": [
    "print(\"Please enter the first amount raised.\")\n",
    "amount1=int(input())\n",
    "print(\"Please enter the second amount raised.\")\n",
    "amount2=int(input())\n",
    "print(\"Please enter the third amount raised.\")\n",
    "amount3=int(input())\n",
    "total=amount1+amount2+amount3\n",
    "double=2*raised\n",
    "print(\"A total of $\",total,\"was raised.\")\n",
    "print(\"This will be diubled to\")\n",
    "for i in range(3):\n",
    "    print(\"$\"+str(double)\n"
   ]
  },
  {
   "cell_type": "markdown",
   "metadata": {},
   "source": [
    "## 30"
   ]
  },
  {
   "cell_type": "code",
   "execution_count": 12,
   "metadata": {},
   "outputs": [
    {
     "name": "stdout",
     "output_type": "stream",
     "text": [
      "Please enter first name:\n",
      "Matt\n",
      "Please enter first name:\n",
      "Reid\n",
      "M R MATT reid MattReid\n",
      "MattReid REID matt r m\n",
      "M R MATT reid MattReid\n",
      "MattReid REID matt r m\n",
      "M R MATT reid MattReid\n",
      "MattReid REID matt r m\n"
     ]
    }
   ],
   "source": [
    "print(\"Please enter first name:\")\n",
    "first_name=input()\n",
    "print(\"Please enter first name:\")\n",
    "second_name=input()\n",
    "for loop in range(3):\n",
    "    print(first_name[:1],second_name[:1],first_name.upper(),second_name.lower(),first_name+second_name)\n",
    "    print(first_name+second_name,second_name.upper(),first_name.lower(),second_name[:1].lower(),first_name[:1].lower())\n",
    "\n"
   ]
  },
  {
   "cell_type": "markdown",
   "metadata": {},
   "source": [
    "## 31"
   ]
  },
  {
   "cell_type": "code",
   "execution_count": 14,
   "metadata": {},
   "outputs": [
    {
     "name": "stdout",
     "output_type": "stream",
     "text": [
      "Please enter the score for each ball.\n",
      "0\n",
      "2\n",
      "0\n",
      "0\n",
      "4\n",
      "6\n",
      "This over's score was: 12\n"
     ]
    }
   ],
   "source": [
    "print(\"Please enter the score for each ball.\")\n",
    "score=0\n",
    "for i in range(6):\n",
    "    runs=int(input())\n",
    "    score=score+runs\n",
    "print(\"This over's score was:\",score)"
   ]
  },
  {
   "cell_type": "markdown",
   "metadata": {},
   "source": [
    "## 32\n"
   ]
  },
  {
   "cell_type": "code",
   "execution_count": 19,
   "metadata": {},
   "outputs": [
    {
     "name": "stdout",
     "output_type": "stream",
     "text": [
      "Please enter the seven temperatures.\n",
      "12\n",
      "14\n",
      "7\n",
      "6\n",
      "7\n",
      "11\n",
      "11\n",
      "This week's average was: 9.71 degrees centigrade\n"
     ]
    }
   ],
   "source": [
    "print(\"Please enter the seven temperatures.\")\n",
    "temperature=0\n",
    "for i in range(7):\n",
    "    temperatures=int(input())\n",
    "    temperature=temperature+temperatures\n",
    "average=float(temperature/7)\n",
    "print(\"This week's average was:\",round(average,2),\"degrees centigrade\")\n",
    "    \n",
    "\n"
   ]
  },
  {
   "cell_type": "markdown",
   "metadata": {},
   "source": [
    "## 33"
   ]
  },
  {
   "cell_type": "code",
   "execution_count": 21,
   "metadata": {},
   "outputs": [
    {
     "name": "stdout",
     "output_type": "stream",
     "text": [
      "Which sentence would you like copied?\n",
      "Mr Reid is the best teacher.\n",
      "How many times would you like this copied?\n",
      "54\n",
      "Mr Reid is the best teacher.\n",
      "Mr Reid is the best teacher.\n",
      "Mr Reid is the best teacher.\n",
      "Mr Reid is the best teacher.\n",
      "Mr Reid is the best teacher.\n",
      "Mr Reid is the best teacher.\n",
      "Mr Reid is the best teacher.\n",
      "Mr Reid is the best teacher.\n",
      "Mr Reid is the best teacher.\n",
      "Mr Reid is the best teacher.\n",
      "Mr Reid is the best teacher.\n",
      "Mr Reid is the best teacher.\n",
      "Mr Reid is the best teacher.\n",
      "Mr Reid is the best teacher.\n",
      "Mr Reid is the best teacher.\n",
      "Mr Reid is the best teacher.\n",
      "Mr Reid is the best teacher.\n",
      "Mr Reid is the best teacher.\n",
      "Mr Reid is the best teacher.\n",
      "Mr Reid is the best teacher.\n",
      "Mr Reid is the best teacher.\n",
      "Mr Reid is the best teacher.\n",
      "Mr Reid is the best teacher.\n",
      "Mr Reid is the best teacher.\n",
      "Mr Reid is the best teacher.\n",
      "Mr Reid is the best teacher.\n",
      "Mr Reid is the best teacher.\n",
      "Mr Reid is the best teacher.\n",
      "Mr Reid is the best teacher.\n",
      "Mr Reid is the best teacher.\n",
      "Mr Reid is the best teacher.\n",
      "Mr Reid is the best teacher.\n",
      "Mr Reid is the best teacher.\n",
      "Mr Reid is the best teacher.\n",
      "Mr Reid is the best teacher.\n",
      "Mr Reid is the best teacher.\n",
      "Mr Reid is the best teacher.\n",
      "Mr Reid is the best teacher.\n",
      "Mr Reid is the best teacher.\n",
      "Mr Reid is the best teacher.\n",
      "Mr Reid is the best teacher.\n",
      "Mr Reid is the best teacher.\n",
      "Mr Reid is the best teacher.\n",
      "Mr Reid is the best teacher.\n",
      "Mr Reid is the best teacher.\n",
      "Mr Reid is the best teacher.\n",
      "Mr Reid is the best teacher.\n",
      "Mr Reid is the best teacher.\n",
      "Mr Reid is the best teacher.\n",
      "Mr Reid is the best teacher.\n",
      "Mr Reid is the best teacher.\n",
      "Mr Reid is the best teacher.\n",
      "Mr Reid is the best teacher.\n",
      "Mr Reid is the best teacher.\n"
     ]
    }
   ],
   "source": [
    "\n",
    "print(\"Which sentence would you like copied?\")\n",
    "sentence=input()\n",
    "print(\"How many times would you like this copied?\")\n",
    "times=int(input())\n",
    "for i in range(54):\n",
    "    print(sentence)"
   ]
  },
  {
   "cell_type": "markdown",
   "metadata": {},
   "source": [
    "## 34"
   ]
  },
  {
   "cell_type": "code",
   "execution_count": 7,
   "metadata": {},
   "outputs": [
    {
     "name": "stdout",
     "output_type": "stream",
     "text": [
      "How many charity raisers were there?\n",
      "6\n",
      "Enter the total raised by each:\n",
      "238\n",
      "624\n",
      "546\n",
      "333\n",
      "651\n",
      "174\n",
      "A total of $ 2566 was raised.\n",
      "This will be increased to:\n",
      "$ 4566 !!!\n",
      "$ 4566 !!!\n",
      "$ 4566 !!!\n"
     ]
    }
   ],
   "source": [
    "print(\"How many charity raisers were there?\")\n",
    "raisers=int(input())\n",
    "amount=0\n",
    "print(\"Enter the total raised by each:\")\n",
    "amount_1=int(input())\n",
    "amount_2=int(input())\n",
    "amount_3=int(input())\n",
    "amount_4=int(input())\n",
    "amount_5=int(input())\n",
    "amount_6=int(input())\n",
    "total=amount_1+amount_2+amount_3+amount_4+amount_5+amount_6\n",
    "double=total+2000\n",
    "print(\"A total of $\",total,\"was raised.\")\n",
    "print(\"This will be increased to:\")\n",
    "for i in range(3):\n",
    "    print(\"$\",double,\"!!!\")"
   ]
  },
  {
   "cell_type": "markdown",
   "metadata": {},
   "source": [
    "## 35"
   ]
  },
  {
   "cell_type": "code",
   "execution_count": null,
   "metadata": {},
   "outputs": [
    {
     "name": "stdout",
     "output_type": "stream",
     "text": [
      "Please enter the number of students:\n",
      "3\n",
      "Enter the time in seconds for each student:\n",
      "Student 1\n"
     ]
    }
   ],
   "source": [
    "print('Please enter the number of students:')\n",
    "students=int(input())\n",
    "print(\"Enter the time in seconds for each student:\")\n",
    "time=0\n",
    "for i in range(students):\n",
    "    print(\"Student\",i+1)\n",
    "    student=int(input())\n",
    "    time=int(input())\n",
    "avg=time/students\n",
    "print(\"The average time for the 3 students was:\")\n",
    "print(round(avg,2),\"seconds\")"
   ]
  },
  {
   "cell_type": "markdown",
   "metadata": {},
   "source": [
    "##### "
   ]
  },
  {
   "cell_type": "markdown",
   "metadata": {},
   "source": [
    "## 36\n"
   ]
  },
  {
   "cell_type": "code",
   "execution_count": 2,
   "metadata": {},
   "outputs": [
    {
     "name": "stdout",
     "output_type": "stream",
     "text": [
      "Odd Numbers List\n",
      "1\n",
      "3\n",
      "5\n",
      "7\n",
      "9\n",
      "11\n"
     ]
    }
   ],
   "source": [
    "print(\"Odd Numbers List\")\n",
    "for numbers in range(1,12,2):\n",
    "    print(numbers)\n",
    "    "
   ]
  },
  {
   "cell_type": "markdown",
   "metadata": {},
   "source": [
    "## 37"
   ]
  },
  {
   "cell_type": "code",
   "execution_count": 2,
   "metadata": {
    "scrolled": true
   },
   "outputs": [
    {
     "name": "stdout",
     "output_type": "stream",
     "text": [
      "The following program will display odd numbers.\n",
      "Enter the first number in the list\n",
      "5\n",
      "Enter the last number in the list\n",
      "13\n",
      "Odd Numbers List\n",
      "5\n",
      "7\n",
      "9\n",
      "11\n",
      "13\n"
     ]
    }
   ],
   "source": [
    "print(\"The following program will display odd numbers.\")\n",
    "print(\"Enter the first number in the list\")\n",
    "first_number=int(input())\n",
    "print(\"Enter the last number in the list\")\n",
    "last_number=int(input())\n",
    "print(\"Odd Numbers List\")\n",
    "for numbers in range(first_number,last_number+1,2):\n",
    "    print(numbers)\n",
    "    "
   ]
  },
  {
   "cell_type": "markdown",
   "metadata": {},
   "source": [
    "## 38"
   ]
  },
  {
   "cell_type": "code",
   "execution_count": 10,
   "metadata": {},
   "outputs": [
    {
     "name": "stdout",
     "output_type": "stream",
     "text": [
      "Please enter the password.\n",
      "snool\n",
      "Sorry,incorrect!Try again.\n",
      "Please enter the password.\n",
      "ornery\n",
      "Entry gained!\n"
     ]
    }
   ],
   "source": [
    "print(\"Please enter the password.\")\n",
    "password=input()\n",
    "while not password==\"ornery\":\n",
    "    print(\"Sorry,incorrect!Try again.\")\n",
    "    print(\"Please enter the password.\")\n",
    "    password=input()\n",
    "print(\"Entry gained!\")"
   ]
  },
  {
   "cell_type": "markdown",
   "metadata": {},
   "source": [
    "## 39"
   ]
  },
  {
   "cell_type": "code",
   "execution_count": null,
   "metadata": {},
   "outputs": [
    {
     "name": "stdout",
     "output_type": "stream",
     "text": [
      "The following program will display odd numbers.\n",
      "Enter the first number in the list\n",
      "5\n",
      "Enter the last number in the last\n",
      "17\n",
      "Sorry,the number must be at least 5+20\n",
      "Please re-enter the number\n",
      "27\n",
      "27\n",
      "Sorry,the number must be at least 5+20\n",
      "Please re-enter the number\n"
     ]
    }
   ],
   "source": [
    "print(\"The following program will display odd numbers.\")\n",
    "print(\"Enter the first number in the list\")\n",
    "first_number=int(input())\n",
    "print(\"Enter the last number in the last\")\n",
    "last_number=int(input())\n",
    "while last_number<=first_number+20:\n",
    "    print(\"Sorry,the number must be at least first_number+\")\n",
    "    print(\"Please re-enter the number\")\n",
    "    number=int(input())\n",
    "    print(number)\n",
    "print(\"Odd Numbers List\")\n",
    "for numbers in range(5,2,26):\n",
    "    print(numbers)\n"
   ]
  },
  {
   "cell_type": "markdown",
   "metadata": {},
   "source": [
    "## 40"
   ]
  },
  {
   "cell_type": "code",
   "execution_count": 9,
   "metadata": {},
   "outputs": [
    {
     "name": "stdout",
     "output_type": "stream",
     "text": [
      "Would you like some advice?\n",
      "N\n",
      "Don't be silly.You definitely need advice!\n",
      "Would you like some advice?\n",
      "H\n",
      "Please enter Y or N only.\n",
      "Would you like some advice?\n",
      "N\n",
      "Don't be silly.You definitely need advice!\n",
      "Would you like some advice?\n",
      "Y\n",
      "Don't feed the trolls!\n"
     ]
    }
   ],
   "source": [
    "print(\"Would you like some advice?\")\n",
    "advice=input()\n",
    "while True:\n",
    "    if advice==\"N\" :   \n",
    "        print(\"Don't be silly.You definitely need advice!\")\n",
    "        print(\"Would you like some advice?\")\n",
    "        advice=input()\n",
    "        continue\n",
    "    elif advice==\"Y\" :   \n",
    "        print(\"Don't feed the trolls!\")\n",
    "        break\n",
    "    else:\n",
    "        print(\"Please enter Y or N only.\")\n",
    "        print(\"Would you like some advice?\")\n",
    "        advice=input()\n",
    "        continue"
   ]
  },
  {
   "cell_type": "markdown",
   "metadata": {},
   "source": [
    "## 41"
   ]
  },
  {
   "cell_type": "code",
   "execution_count": 12,
   "metadata": {},
   "outputs": [
    {
     "name": "stdout",
     "output_type": "stream",
     "text": [
      "Please enter the price of each present:\n",
      "35\n",
      "100\n",
      "50\n",
      "45\n",
      "Limit Exceeded\n",
      "You can't include the 45 present\n"
     ]
    }
   ],
   "source": [
    "print(\"Please enter the price of each present:\")\n",
    "price=0\n",
    "total=0\n",
    "while total<200:\n",
    "    price=int(input())\n",
    "    total=total+price\n",
    "print(\"Limit Exceeded\")\n",
    "print(\"You can't include the\",price,\"present\")\n"
   ]
  },
  {
   "cell_type": "markdown",
   "metadata": {},
   "source": [
    "## 42"
   ]
  },
  {
   "cell_type": "code",
   "execution_count": 12,
   "metadata": {},
   "outputs": [
    {
     "name": "stdout",
     "output_type": "stream",
     "text": [
      "Enter your menu choice(Q,A,K or L)\n",
      "V\n",
      "V is not validated. Enter Q,A,K or L\n",
      "L\n",
      "L Selected\n"
     ]
    }
   ],
   "source": [
    "print(\"Enter your menu choice(Q,A,K or L)\")\n",
    "c=input()\n",
    "while True:\n",
    "    choice=c.upper()\n",
    "    if choice==\"Q\" or choice==\"A\" or choice==\"K\" or choice==\"L\" :\n",
    "        print(choice,\"Selected\")\n",
    "        break\n",
    "    else:\n",
    "        print(choice,\"is not validated.\",\"Enter Q,A,K or L\")\n",
    "        c=input()\n",
    "        continue\n",
    "\n"
   ]
  },
  {
   "cell_type": "code",
   "execution_count": 13,
   "metadata": {},
   "outputs": [
    {
     "name": "stdout",
     "output_type": "stream",
     "text": [
      "Enter your menu choice(Q,A,K or L)\n",
      "a\n",
      "A Selected\n"
     ]
    }
   ],
   "source": [
    "print(\"Enter your menu choice(Q,A,K or L)\")\n",
    "c=input()\n",
    "while True:\n",
    "    choice=c.upper()\n",
    "    if choice==\"Q\" or choice==\"A\" or choice==\"K\" or choice==\"L\" :\n",
    "        print(choice,\"Selected\")\n",
    "        break\n",
    "    else:\n",
    "        print(choice,\"is not validated.\",\"Enter Q,A,K or L\")\n",
    "        c=input()\n",
    "        continue\n",
    "\n"
   ]
  },
  {
   "cell_type": "markdown",
   "metadata": {},
   "source": [
    "## 43"
   ]
  },
  {
   "cell_type": "code",
   "execution_count": 16,
   "metadata": {},
   "outputs": [
    {
     "name": "stdout",
     "output_type": "stream",
     "text": [
      "Guess the hidden number between 1 and 100\n",
      "Enter your guess.\n",
      "112\n",
      "Your guess was not validated.Enter it again.\n",
      "67\n",
      "Your guess is too high.Try again.\n",
      "50\n",
      "Your guess is too low.Try again.\n",
      "52\n",
      "Correct!Well Done\n"
     ]
    }
   ],
   "source": [
    "print(\"Guess the hidden number between 1 and 100\")\n",
    "print(\"Enter your guess.\")\n",
    "guess=int(input())\n",
    "while True:\n",
    "    if guess>100:\n",
    "        print(\"Your guess was not validated.Enter it again.\")\n",
    "        guess=int(input())\n",
    "        continue\n",
    "    elif guess>52:\n",
    "        print(\"Your guess is too high.Try again.\")\n",
    "        guess=int(input())\n",
    "        continue\n",
    "    elif guess<52:\n",
    "        print(\"Your guess is too low.Try again.\")\n",
    "        guess=int(input())\n",
    "    else:\n",
    "        print(\"Correct!Well Done\")\n",
    "        break\n",
    "        \n",
    "    \n"
   ]
  },
  {
   "cell_type": "markdown",
   "metadata": {},
   "source": [
    "## 44"
   ]
  },
  {
   "cell_type": "code",
   "execution_count": 8,
   "metadata": {},
   "outputs": [
    {
     "name": "stdout",
     "output_type": "stream",
     "text": [
      "Week 1\n",
      "Please enter the seven temperatures.\n",
      "12\n",
      "14\n",
      "7\n",
      "6\n",
      "66\n",
      "Temperature should be between -40 and 55 \n",
      "7\n",
      "11\n",
      "11\n",
      "Week 2\n",
      "Please enter the seven temperatures.\n",
      "11\n",
      "11\n",
      "9\n",
      "13\n",
      "15\n",
      "15\n",
      "11\n",
      "Week 3\n",
      "Please enter the seven temperatures.\n",
      "5\n",
      "15\n",
      "7\n",
      "10\n",
      "3\n",
      "11\n",
      "12\n",
      "Week 4\n",
      "Please enter the seven temperatures.\n",
      "15\n",
      "14\n",
      "14\n",
      "16\n",
      "13\n",
      "14\n",
      "14\n",
      "Week 1  average was: \n",
      "9.71 degree centigrade\n",
      "Week 2  average was: \n",
      "21.86 degree centigrade\n",
      "Week 3  average was: \n",
      "30.86 degree centigrade\n",
      "Week 4  average was: \n",
      "45.14 degree centigrade\n"
     ]
    }
   ],
   "source": [
    " temp=0\n",
    "for i in range(4):\n",
    "    print(\"Week\",i+1)\n",
    "    print(\"Please enter the seven temperatures.\")\n",
    "   \n",
    "    for k in range(7):\n",
    "        temperature=int(input())\n",
    "        if temperature<=-40 or temperature>=55:\n",
    "            print(\"Temperature should be between -40 and 55 \")\n",
    "            temperature=int(input())\n",
    "        temp=temp+temperature\n",
    "    avg=temp/7   \n",
    "    if i==0:\n",
    "        t0=avg\n",
    "    elif i==1:\n",
    "        t1=avg\n",
    "    elif i==2:\n",
    "        t2=avg\n",
    "    elif i==3:\n",
    "        t3=avg    \n",
    "for j in range(4):\n",
    "    print(\"Week\",j+1,\" average was: \")\n",
    "    \n",
    "    if j==0:\n",
    "        print(round(t0,2),\"degree centigrade\")\n",
    "    elif j==1:\n",
    "        print(round(t1,2),\"degree centigrade\")\n",
    "    elif j==2:\n",
    "        print(round(t2,2),\"degree centigrade\")\n",
    "    elif j==3:\n",
    "        print(round(t3,2),\"degree centigrade\")\n",
    "\n",
    "    \n",
    "   "
   ]
  },
  {
   "cell_type": "markdown",
   "metadata": {},
   "source": [
    "## 45"
   ]
  },
  {
   "cell_type": "code",
   "execution_count": 11,
   "metadata": {},
   "outputs": [
    {
     "name": "stdout",
     "output_type": "stream",
     "text": [
      "Please enter the scores for player one \n",
      "34\n",
      "26\n",
      "200\n",
      "Invalid score  \n",
      "100\n",
      "Please enter the scores for player two\n",
      "78\n",
      "80\n",
      "97\n",
      "Player two scored highest individual score.\n",
      "Player two wins!!\n"
     ]
    }
   ],
   "source": [
    "print(\"Please enter the scores for player one \")\n",
    "total1=0  \n",
    "total2=0 \n",
    "for i in range(3):\n",
    "    score=int(input())\n",
    "    if score<0 or score > 180:\n",
    "        print(\"Invalid score  \")\n",
    "        score=int(input())\n",
    "    total1=total1+score     \n",
    "print(\"Please enter the scores for player two\")\n",
    " \n",
    "for j in range(3):\n",
    "    score=int(input())\n",
    "    if score<0 or score > 180:\n",
    "        print(\"Invalid score  \")\n",
    "        score=int(input())\n",
    "    total2=total2+score     \n",
    "                       \n",
    "if total1>total2:\n",
    "                   print(\"Player one scored highest individual score.\")\n",
    "                   print(\"Player one wins!!\")\n",
    "else:\n",
    "                   print(\"Player two scored highest individual score.\")\n",
    "                   print(\"Player two wins!!\")\n",
    "                   \n",
    "                   "
   ]
  },
  {
   "cell_type": "markdown",
   "metadata": {},
   "source": [
    "## 46"
   ]
  },
  {
   "cell_type": "code",
   "execution_count": 5,
   "metadata": {},
   "outputs": [
    {
     "name": "stdout",
     "output_type": "stream",
     "text": [
      "Mountain Bike\n",
      "Ski Jacket\n",
      "Electric Guitar\n",
      "PS3-500Gb\n",
      "Badminton Racquet\n"
     ]
    }
   ],
   "source": [
    "item=[\"Mountain Bike\",\"Ski Jacket\",\"Electric Guitar\",\"PS3-500Gb\",\"Badminton Racquet\"]\n",
    "\n",
    "\n",
    "for j in range(5):    \n",
    "    print(item[j])"
   ]
  },
  {
   "cell_type": "markdown",
   "metadata": {},
   "source": [
    "## 47"
   ]
  },
  {
   "cell_type": "code",
   "execution_count": 6,
   "metadata": {},
   "outputs": [
    {
     "name": "stdout",
     "output_type": "stream",
     "text": [
      "Mountain Bike - $200\n",
      "Ski Jacket - $67\n",
      "Electric Guitar - $330\n",
      "PS3-500Gb - $20\n",
      "Badminton Racquet - $15\n"
     ]
    }
   ],
   "source": [
    "item=[\"Mountain Bike\",\"Ski Jacket\",\"Electric Guitar\",\"PS3-500Gb\",\"Badminton Racquet\"]\n",
    "price=[\"$200\",\"$67\",\"$330\",\"$20\",\"$15\"]\n",
    "for i in range(5):\n",
    "    print(item[i],\"-\",price[i])"
   ]
  },
  {
   "cell_type": "markdown",
   "metadata": {},
   "source": [
    "## 48\n"
   ]
  },
  {
   "cell_type": "code",
   "execution_count": 12,
   "metadata": {},
   "outputs": [
    {
     "name": "stdout",
     "output_type": "stream",
     "text": [
      "please enter the score for each ball.\n",
      "0\n",
      "2\n",
      "0\n",
      "0\n",
      "4\n",
      "6\n",
      "This over score was:  12\n",
      "With each ball scoring:\n",
      "0\n",
      "2\n",
      "0\n",
      "0\n",
      "4\n",
      "6\n"
     ]
    }
   ],
   "source": [
    "print(\"please enter the score for each ball.\")\n",
    "c=0\n",
    "b=0\n",
    "a=[]\n",
    "for i in range(6):\n",
    "    b=int(input())\n",
    "    a.append(b)\n",
    "    c=c+b\n",
    "print(\"This over score was: \",c)\n",
    "print(\"With each ball scoring:\")\n",
    "for f in range(6):\n",
    "    print(a[f])"
   ]
  },
  {
   "cell_type": "markdown",
   "metadata": {},
   "source": [
    "## 49\n"
   ]
  },
  {
   "cell_type": "code",
   "execution_count": 13,
   "metadata": {},
   "outputs": [
    {
     "name": "stdout",
     "output_type": "stream",
     "text": [
      "Please enter a name: \n",
      "Jean Gray\n",
      "Please enterJean Gray's age: \n",
      "13\n",
      "Please enter a name: \n",
      "Max Eisenhardt\n",
      "Please enterMax Eisenhardt's age: \n",
      "24\n",
      "Please enter a name: \n",
      "James Howlett\n",
      "Please enterJames Howlett's age: \n",
      "15\n",
      "Please enter a name: \n",
      "Aleksy Nowak\n",
      "Please enterAleksy Nowak's age: \n",
      "9\n",
      "Name and Competition List: \n",
      "Jean Gray-Teen\n",
      "Max Eisenhardt-Senior\n",
      "James Howlett-Teen\n",
      "Aleksy Nowak-Junior\n"
     ]
    }
   ],
   "source": [
    "list=[]\n",
    "name=''\n",
    "level=''\n",
    "g=0\n",
    "for i in range(4):\n",
    "    print(\"Please enter a name: \")\n",
    "    name=input()\n",
    "    print(\"Please enter\"+name+\"'s age: \")\n",
    "    g=int(input())\n",
    "    if g<=12:\n",
    "        level='Junior'\n",
    "    elif g>12 and g<=20:\n",
    "        level='Teen'\n",
    "    elif g>20:\n",
    "        level='Senior'\n",
    "    tlevel=(name+\"-\"+level)\n",
    "    list.append(tlevel)\n",
    "print(\"Name and Competition List: \")    \n",
    "for d in range(4):\n",
    "    print(list[d])"
   ]
  },
  {
   "cell_type": "markdown",
   "metadata": {},
   "source": [
    "## 50"
   ]
  },
  {
   "cell_type": "code",
   "execution_count": 14,
   "metadata": {},
   "outputs": [
    {
     "name": "stdout",
     "output_type": "stream",
     "text": [
      "Please enter details of the horse. \n",
      "Maximum height:\n",
      "16\n",
      "Maximum age:\n",
      "15\n",
      "Suitable horses are.\n",
      "Black Beauty , 14 years , 15 hands\n",
      "Franchise , 8 years , 14 hands\n",
      "Langrish , 15 years , 14 hands\n"
     ]
    }
   ],
   "source": [
    "print(\"Please enter details of the horse. \")\n",
    "print(\"Maximum height:\")\n",
    "height=int(input())\n",
    "print(\"Maximum age:\")\n",
    "age=int(input())\n",
    "names=[\"Black Beauty\",\"Franchise\",\"Langrish\",\"Bella\",\"Lucy Nitro\",\"Turbo Tony\"]\n",
    "ages=[14,8,15,16,16,16]\n",
    "hands=[15,14,14,17,17,17]\n",
    "print(\"Suitable horses are.\")\n",
    "for i in range(5):\n",
    "    if hands[i]<=height and ages[i]<=age:\n",
    "        print(names[i],\",\",ages[i],\"years ,\",hands[i],\"hands\")\n",
    "    else:\n",
    "        break"
   ]
  },
  {
   "cell_type": "markdown",
   "metadata": {},
   "source": [
    "## 51"
   ]
  },
  {
   "cell_type": "code",
   "execution_count": 16,
   "metadata": {},
   "outputs": [
    {
     "ename": "IndexError",
     "evalue": "list index out of range",
     "output_type": "error",
     "traceback": [
      "\u001b[1;31m---------------------------------------------------------------------------\u001b[0m",
      "\u001b[1;31mIndexError\u001b[0m                                Traceback (most recent call last)",
      "\u001b[1;32m~\\AppData\\Local\\Temp/ipykernel_7832/2150325415.py\u001b[0m in \u001b[0;36m<module>\u001b[1;34m\u001b[0m\n\u001b[0;32m      1\u001b[0m \u001b[0mname\u001b[0m\u001b[1;33m=\u001b[0m\u001b[1;33m[\u001b[0m\u001b[1;33m]\u001b[0m\u001b[1;33m\u001b[0m\u001b[1;33m\u001b[0m\u001b[0m\n\u001b[1;32m----> 2\u001b[1;33m \u001b[0mprint\u001b[0m\u001b[1;33m(\u001b[0m\u001b[1;34m\"Room-\"\u001b[0m\u001b[1;33m,\u001b[0m\u001b[0mname\u001b[0m\u001b[1;33m[\u001b[0m\u001b[0mj\u001b[0m\u001b[1;33m]\u001b[0m\u001b[1;33m)\u001b[0m\u001b[1;33m\u001b[0m\u001b[1;33m\u001b[0m\u001b[0m\n\u001b[0m\u001b[0;32m      3\u001b[0m \u001b[0marea\u001b[0m\u001b[1;33m=\u001b[0m\u001b[0mround\u001b[0m\u001b[1;33m(\u001b[0m\u001b[1;33m(\u001b[0m\u001b[0mlength\u001b[0m\u001b[1;33m[\u001b[0m\u001b[0mj\u001b[0m\u001b[1;33m]\u001b[0m\u001b[1;33m*\u001b[0m\u001b[0mwidth\u001b[0m\u001b[1;33m[\u001b[0m\u001b[0mj\u001b[0m\u001b[1;33m]\u001b[0m\u001b[1;33m)\u001b[0m\u001b[1;33m,\u001b[0m\u001b[1;36m1\u001b[0m\u001b[1;33m)\u001b[0m\u001b[1;33m\u001b[0m\u001b[1;33m\u001b[0m\u001b[0m\n\u001b[0;32m      4\u001b[0m \u001b[0mprint\u001b[0m\u001b[1;33m(\u001b[0m\u001b[0marea\u001b[0m \u001b[1;33m,\u001b[0m\u001b[1;34m\"metres squared\"\u001b[0m\u001b[1;33m)\u001b[0m\u001b[1;33m\u001b[0m\u001b[1;33m\u001b[0m\u001b[0m\n\u001b[0;32m      5\u001b[0m \u001b[0md\u001b[0m\u001b[1;33m=\u001b[0m\u001b[0md\u001b[0m\u001b[1;33m+\u001b[0m\u001b[1;33m(\u001b[0m\u001b[0marea\u001b[0m\u001b[1;33m)\u001b[0m\u001b[1;33m\u001b[0m\u001b[1;33m\u001b[0m\u001b[0m\n",
      "\u001b[1;31mIndexError\u001b[0m: list index out of range"
     ]
    }
   ],
   "source": [
    "\n",
    "name=[]\n",
    "print(\"Room-\",name[j])\n",
    "area=round((length[j]*width[j]),1)\n",
    "print(area ,\"metres squared\")\n",
    "d=d+(area)\n",
    "print(\"House floor area calculator.\")\n",
    "print(\"Please enter the number of rooms:\")\n",
    "room=int(input())\n",
    "d=0\n",
    "area=0\n",
    "name=[]\n",
    "length=[]\n",
    "width=[]\n",
    "for i in range(room):\n",
    "    a=str(input(\"Please enter the name of room \"+str(i+1)+\": \"))\n",
    "    b=float(input(\"Please enter the lenth (m) of room \"+str(i+1)+\": \"))\n",
    "    c=float(input(\"Please enter the width (m) of room \"+str(i+1)+\": \"))\n",
    "    name.append(a)\n",
    "    length.append(b)\n",
    "    width.append(c)\n",
    "print(\"House details: \")    \n",
    "for j in range(room): \n",
    "    print(d,\"metres squared\")"
   ]
  },
  {
   "cell_type": "markdown",
   "metadata": {},
   "source": [
    "## 52"
   ]
  },
  {
   "cell_type": "code",
   "execution_count": 26,
   "metadata": {},
   "outputs": [
    {
     "name": "stdout",
     "output_type": "stream",
     "text": [
      "Who is going? \n",
      "Melissa ?\n",
      "y\n",
      "Evelyn ?\n",
      "n\n",
      "Emmy ?\n",
      "n\n",
      "Karen ?\n",
      "n\n",
      "Norma ?\n",
      "y\n",
      "Dorek ?\n",
      "y\n",
      "Agnes ?\n",
      "n\n",
      "Billy ?\n",
      "y\n",
      "Gawel ?\n",
      "y\n",
      "Arthur ?\n",
      "n\n",
      "Party Attendence List: \n",
      "Norma\n"
     ]
    }
   ],
   "source": [
    "\n",
    "  Friends=[\"Melissa\",\"Evelyn\",\"Emmy\",\"Karen\",\"Norma\",\"Dorek\",\"Agnes\",\"Billy\",\"Gawel\",\"Arthur\"]\n",
    "going=''\n",
    "\n",
    "true=[]\n",
    "print(\"Who is going? \")\n",
    "for i in range(10):\n",
    "    print(Friends[i],\"?\")\n",
    "    going=input()        \n",
    "    if going=='y':\n",
    "        true.append(Friends[i])\n",
    "    else:\n",
    "        continue\n",
    "print(\"Party Attendence List: \")        \n",
    "l=len(\"y\")\n",
    "for d in range(l):\n",
    "    print(true[l])\n",
    "    "
   ]
  },
  {
   "cell_type": "markdown",
   "metadata": {},
   "source": [
    "## 53"
   ]
  },
  {
   "cell_type": "code",
   "execution_count": 28,
   "metadata": {},
   "outputs": [
    {
     "name": "stdout",
     "output_type": "stream",
     "text": [
      "How many members have requested a seat? \n",
      "5\n",
      "Please enter your name: \n",
      "Hubab\n",
      "Which row would you like to sit in?\n",
      "2\n",
      "Which seat number would you like to sit in?\n",
      "3\n",
      "Thank you, your name has been added.\n",
      "Please enter your name: \n",
      "Jessica\n",
      "Which row would you like to sit in?\n",
      "3\n",
      "Which seat number would you like to sit in?\n",
      "1\n",
      "Thank you, your name has been added.\n",
      "Please enter your name: \n",
      "Andrew\n",
      "Which row would you like to sit in?\n",
      "5\n",
      "Which seat number would you like to sit in?\n",
      "4\n",
      "Thank you, your name has been added.\n",
      "Please enter your name: \n",
      "Denzel\n",
      "Which row would you like to sit in?\n",
      "2\n",
      "Which seat number would you like to sit in?\n",
      "1\n",
      "Thank you, your name has been added.\n",
      "Please enter your name: \n",
      "Talisha\n",
      "Which row would you like to sit in?\n",
      "4\n",
      "Which seat number would you like to sit in?\n",
      "3\n",
      "Thank you, your name has been added.\n",
      "0 . Empty Empty Empty Empty\n",
      "1 . Denzel Empty Hubab Empty\n",
      "2 . Jessica Empty Empty Empty\n",
      "3 . Empty Empty Talisha Empty\n",
      "4 . Empty Empty Empty Andrew\n"
     ]
    }
   ],
   "source": [
    "print(\"How many members have requested a seat? \")\n",
    "seat=int(input())\n",
    "a1=[\"Empty\"]*seat\n",
    "a2=[\"Empty\"]*seat\n",
    "a3=[\"Empty\"]*seat\n",
    "a4=[\"Empty\"]*seat\n",
    "#a5=[]\n",
    "for i in range(seat):\n",
    "    print(\"Please enter your name: \")\n",
    "    name=str(input())\n",
    "    print(\"Which row would you like to sit in?\")\n",
    "    row=int(input())\n",
    "    print(\"Which seat number would you like to sit in?\")\n",
    "    colum=int(input())\n",
    "    print(\"Thank you, your name has been added.\")\n",
    "    if colum==1:\n",
    "        a1.pop(row-1)\n",
    "        a1.insert(row-1,name)\n",
    "     \n",
    "    elif colum==2:\n",
    "        a2.pop(row-1)\n",
    "        a2.insert(row-1,name)\n",
    "        \n",
    "    elif colum==3:\n",
    "        a3.pop(row-1)\n",
    "        a3.insert(row-1,name)\n",
    "        \n",
    "    elif colum==4:\n",
    "        a4.pop(row-1)\n",
    "        a4.insert(row-1,name)\n",
    "    \n",
    "for j in range(5):\n",
    "    print(j,\".\",a1[j],a2[j],a3[j],a4[j])"
   ]
  },
  {
   "cell_type": "markdown",
   "metadata": {},
   "source": [
    "## 54"
   ]
  },
  {
   "cell_type": "code",
   "execution_count": 32,
   "metadata": {},
   "outputs": [
    {
     "name": "stdout",
     "output_type": "stream",
     "text": [
      "Please enter the number of weeds counted at 1,1: 3\n",
      "Please enter the number of weeds counted at 1,2: 0\n",
      "Please enter the number of weeds counted at 1,3: 2\n",
      "Please enter the number of weeds counted at 1,4: 2\n",
      "Please enter the number of weeds counted at 1,5: 0\n",
      "Please enter the number of weeds counted at 2,1: 2\n",
      "Please enter the number of weeds counted at 2,2: 0\n",
      "Please enter the number of weeds counted at 2,3: 0\n",
      "Please enter the number of weeds counted at 2,4: 3\n",
      "Please enter the number of weeds counted at 2,5: 2\n",
      "Please enter the number of weeds counted at 3,1: 0\n",
      "Please enter the number of weeds counted at 3,2: 10\n",
      "Please enter the number of weeds counted at 3,3: 6\n",
      "Please enter the number of weeds counted at 3,4: 5\n",
      "Please enter the number of weeds counted at 3,5: 0\n",
      "Please enter the number of weeds counted at 4,1: 1\n",
      "Please enter the number of weeds counted at 4,2: 1\n",
      "Please enter the number of weeds counted at 4,3: 2\n",
      "Please enter the number of weeds counted at 4,4: 2\n",
      "Please enter the number of weeds counted at 4,5: 7\n",
      "Please enter the number of weeds counted at 5,1: 0\n",
      "Please enter the number of weeds counted at 5,2: 0\n",
      "Please enter the number of weeds counted at 5,3: 5\n",
      "Please enter the number of weeds counted at 5,4: 3\n",
      "Please enter the number of weeds counted at 5,5: 2\n",
      "The results are shown below: \n",
      "3 0 2 2 0\n",
      "2 0 0 3 2\n",
      "0 10 6 5 0\n",
      "1 1 2 2 7\n",
      "0 0 5 3 2\n",
      "The total number of weeds found was -  58\n"
     ]
    }
   ],
   "source": [
    "\n",
    "  a1=[]\n",
    "a2=[]\n",
    "a3=[]\n",
    "a4=[]\n",
    "a5=[]\n",
    "weed=0\n",
    "total=0\n",
    "for i in range(5):\n",
    "    for j in range(5):\n",
    "        weed=int(input(\"Please enter the number of weeds counted at \"+str(i+1)+\",\"+str(j+1)+\": \"))\n",
    "        if j==0:\n",
    "            a1.append(weed)\n",
    "        elif j==1:\n",
    "            a2.append(weed)\n",
    "        elif j==2:\n",
    "            a3.append(weed)                                                                             \n",
    "        elif j==3:\n",
    "            a4.append(weed)    \n",
    "        elif j==4:\n",
    "            a5.append(weed)    \n",
    "        total=total+weed\n",
    "print(\"The results are shown below: \")\n",
    "for k in range(5):\n",
    "    print(a1[k],a2[k],a3[k],a4[k],a5[k])\n",
    "print(\"The total number of weeds found was - \",total)      \n",
    "\n",
    " "
   ]
  },
  {
   "cell_type": "markdown",
   "metadata": {},
   "source": [
    "## 55"
   ]
  },
  {
   "cell_type": "code",
   "execution_count": 1,
   "metadata": {},
   "outputs": [
    {
     "name": "stdout",
     "output_type": "stream",
     "text": [
      "Please enter over 1for Team1\n",
      "2\n",
      "1\n",
      "0\n",
      "0\n",
      "0\n",
      "6\n",
      "Please enter over 2for Team1\n",
      "6\n",
      "1\n",
      "4\n",
      "1\n",
      "1\n",
      "1\n",
      "Please enter over 3for Team1\n",
      "1\n",
      "1\n",
      "1\n",
      "2\n",
      "6\n",
      "6\n",
      "Please enter over 1for Team2\n",
      "1\n",
      "1\n",
      "1\n",
      "1\n",
      "2\n",
      "2\n",
      "Please enter over 2for Team2\n",
      "4\n",
      "4\n",
      "4\n",
      "6\n",
      "6\n",
      "1\n",
      "Please enter over 3for Team2\n",
      "6\n",
      "4\n",
      "0\n",
      "1\n",
      "0\n",
      "0\n",
      "Do you wish to continue the result of another game? \n",
      "N\n",
      "Score for Team 1's three overs\n",
      "40\n",
      "Score for Team 2's three overs\n",
      "44\n",
      "Team 2 win the match\n",
      "Do you wish to continue the result of another game? \n",
      "N\n"
     ]
    }
   ],
   "source": [
    "a=0\n",
    "total=0\n",
    "runs1=0\n",
    "runs2=0\n",
    "game=\"Y\"\n",
    "games=\"Y\"\n",
    "while games==\"Y\":\n",
    "    while game==\"Y\":\n",
    "        runs1=0\n",
    "        runs2=0\n",
    "        for i in range(2):\n",
    "            cricket=[[0]*6 for main in range(3)]\n",
    "            for j in range(3):\n",
    "                print(\"Please enter over \"+str(j+1)+\"for Team\"+str(i+1))\n",
    "                for k in range(6):\n",
    "                    cricket[j][k]=int(input())\n",
    "                    \n",
    "                    if i==0 :\n",
    "                        runs1=runs1+cricket[j][k]\n",
    "                    elif i==1: \n",
    "                        runs2=runs2+cricket[j][k]\n",
    "                     \n",
    "        print(\"Do you wish to continue the result of another game? \")\n",
    "        game=input()             \n",
    "    \n",
    "    print(\"Score for Team 1's three overs\")\n",
    "    print(runs1)\n",
    "    print(\"Score for Team 2's three overs\")\n",
    "    print(runs2)\n",
    "    if runs1>runs2:\n",
    "        print(\"Team 1 win the match\")\n",
    "    else:\n",
    "        print(\"Team 2 win the match\")       \n",
    "            \n",
    "    print(\"Do you wish to continue the result of another game? \")\n",
    "    games=input()             \n",
    "               \n",
    "                "
   ]
  },
  {
   "cell_type": "markdown",
   "metadata": {},
   "source": [
    "## SECTION 5"
   ]
  },
  {
   "cell_type": "markdown",
   "metadata": {},
   "source": [
    "## 56"
   ]
  },
  {
   "cell_type": "code",
   "execution_count": 14,
   "metadata": {},
   "outputs": [
    {
     "name": "stdout",
     "output_type": "stream",
     "text": [
      "Enter  the hidden number between 1 and 100.\n",
      "Enter your guess60\n",
      "Your guess is too low.Try again.\n",
      "70\n",
      "Your guess is too low.Try again.\n",
      "80\n",
      "Your guess is too high.Try again.\n",
      "78\n",
      "Your guess is too high.Try again.\n",
      "79\n",
      "Your guess is too high.Try again.\n",
      "52\n",
      "Your guess is too low.Try again.\n",
      "8\n",
      "Your guess is too low.Try again.\n"
     ]
    },
    {
     "ename": "KeyboardInterrupt",
     "evalue": "Interrupted by user",
     "output_type": "error",
     "traceback": [
      "\u001b[1;31m---------------------------------------------------------------------------\u001b[0m",
      "\u001b[1;31mKeyboardInterrupt\u001b[0m                         Traceback (most recent call last)",
      "\u001b[1;32m~\\AppData\\Local\\Temp/ipykernel_7832/560986897.py\u001b[0m in \u001b[0;36m<module>\u001b[1;34m\u001b[0m\n\u001b[0;32m     12\u001b[0m     \u001b[1;32melif\u001b[0m \u001b[0mguess\u001b[0m\u001b[1;33m<\u001b[0m\u001b[0msum\u001b[0m\u001b[1;33m:\u001b[0m\u001b[1;33m\u001b[0m\u001b[1;33m\u001b[0m\u001b[0m\n\u001b[0;32m     13\u001b[0m         \u001b[0mprint\u001b[0m\u001b[1;33m(\u001b[0m\u001b[1;34m\"Your guess is too low.Try again.\"\u001b[0m\u001b[1;33m)\u001b[0m\u001b[1;33m\u001b[0m\u001b[1;33m\u001b[0m\u001b[0m\n\u001b[1;32m---> 14\u001b[1;33m     \u001b[0mguess\u001b[0m\u001b[1;33m=\u001b[0m\u001b[0mint\u001b[0m\u001b[1;33m(\u001b[0m\u001b[0minput\u001b[0m\u001b[1;33m(\u001b[0m\u001b[1;33m)\u001b[0m\u001b[1;33m)\u001b[0m\u001b[1;33m\u001b[0m\u001b[1;33m\u001b[0m\u001b[0m\n\u001b[0m\u001b[0;32m     15\u001b[0m \u001b[0mprint\u001b[0m\u001b[1;33m(\u001b[0m\u001b[1;34m\"Correct! Well done.\"\u001b[0m\u001b[1;33m)\u001b[0m\u001b[1;33m\u001b[0m\u001b[1;33m\u001b[0m\u001b[0m\n",
      "\u001b[1;32m~\\anaconda3\\lib\\site-packages\\ipykernel\\kernelbase.py\u001b[0m in \u001b[0;36mraw_input\u001b[1;34m(self, prompt)\u001b[0m\n\u001b[0;32m   1004\u001b[0m                 \u001b[1;34m\"raw_input was called, but this frontend does not support input requests.\"\u001b[0m\u001b[1;33m\u001b[0m\u001b[1;33m\u001b[0m\u001b[0m\n\u001b[0;32m   1005\u001b[0m             )\n\u001b[1;32m-> 1006\u001b[1;33m         return self._input_request(\n\u001b[0m\u001b[0;32m   1007\u001b[0m             \u001b[0mstr\u001b[0m\u001b[1;33m(\u001b[0m\u001b[0mprompt\u001b[0m\u001b[1;33m)\u001b[0m\u001b[1;33m,\u001b[0m\u001b[1;33m\u001b[0m\u001b[1;33m\u001b[0m\u001b[0m\n\u001b[0;32m   1008\u001b[0m             \u001b[0mself\u001b[0m\u001b[1;33m.\u001b[0m\u001b[0m_parent_ident\u001b[0m\u001b[1;33m[\u001b[0m\u001b[1;34m\"shell\"\u001b[0m\u001b[1;33m]\u001b[0m\u001b[1;33m,\u001b[0m\u001b[1;33m\u001b[0m\u001b[1;33m\u001b[0m\u001b[0m\n",
      "\u001b[1;32m~\\anaconda3\\lib\\site-packages\\ipykernel\\kernelbase.py\u001b[0m in \u001b[0;36m_input_request\u001b[1;34m(self, prompt, ident, parent, password)\u001b[0m\n\u001b[0;32m   1049\u001b[0m             \u001b[1;32mexcept\u001b[0m \u001b[0mKeyboardInterrupt\u001b[0m\u001b[1;33m:\u001b[0m\u001b[1;33m\u001b[0m\u001b[1;33m\u001b[0m\u001b[0m\n\u001b[0;32m   1050\u001b[0m                 \u001b[1;31m# re-raise KeyboardInterrupt, to truncate traceback\u001b[0m\u001b[1;33m\u001b[0m\u001b[1;33m\u001b[0m\u001b[0m\n\u001b[1;32m-> 1051\u001b[1;33m                 \u001b[1;32mraise\u001b[0m \u001b[0mKeyboardInterrupt\u001b[0m\u001b[1;33m(\u001b[0m\u001b[1;34m\"Interrupted by user\"\u001b[0m\u001b[1;33m)\u001b[0m \u001b[1;32mfrom\u001b[0m \u001b[1;32mNone\u001b[0m\u001b[1;33m\u001b[0m\u001b[1;33m\u001b[0m\u001b[0m\n\u001b[0m\u001b[0;32m   1052\u001b[0m             \u001b[1;32mexcept\u001b[0m \u001b[0mException\u001b[0m\u001b[1;33m:\u001b[0m\u001b[1;33m\u001b[0m\u001b[1;33m\u001b[0m\u001b[0m\n\u001b[0;32m   1053\u001b[0m                 \u001b[0mself\u001b[0m\u001b[1;33m.\u001b[0m\u001b[0mlog\u001b[0m\u001b[1;33m.\u001b[0m\u001b[0mwarning\u001b[0m\u001b[1;33m(\u001b[0m\u001b[1;34m\"Invalid Message:\"\u001b[0m\u001b[1;33m,\u001b[0m \u001b[0mexc_info\u001b[0m\u001b[1;33m=\u001b[0m\u001b[1;32mTrue\u001b[0m\u001b[1;33m)\u001b[0m\u001b[1;33m\u001b[0m\u001b[1;33m\u001b[0m\u001b[0m\n",
      "\u001b[1;31mKeyboardInterrupt\u001b[0m: Interrupted by user"
     ]
    }
   ],
   "source": [
    "import random\n",
    "sum=random.randint(1,100)\n",
    "print(\"Enter  the hidden number between 1 and 100.\")\n",
    "guess=int(input(\"Enter your guess\"))\n",
    "while not guess==sum:\n",
    "    if guess>100:\n",
    "        print(\"Your guess not valid.Enter it again\")\n",
    "        \n",
    "    elif guess>sum:\n",
    "        print(\"Your guess is too high.Try again.\")\n",
    "        \n",
    "    elif guess<sum:\n",
    "        print(\"Your guess is too low.Try again.\")\n",
    "    guess=int(input())\n",
    "print(\"Correct! Well done.\")       "
   ]
  },
  {
   "cell_type": "markdown",
   "metadata": {},
   "source": [
    "## 57"
   ]
  },
  {
   "cell_type": "code",
   "execution_count": 3,
   "metadata": {},
   "outputs": [
    {
     "name": "stdout",
     "output_type": "stream",
     "text": [
      "Please enter the donated comics: \n",
      "34\n",
      "Liam now owns issues:\n",
      "[1, 2, 3, 7, 8, 9, 10, 16, 34]\n"
     ]
    }
   ],
   "source": [
    "Liam=[1,2,3,7,8,9,10,16]\n",
    "print(\"Please enter the donated comics: \")\n",
    "Anita=[int(i) for i in input().split(\",\")]\n",
    "Liam.extend(Anita)\n",
    "print(\"Liam now owns issues:\")\n",
    "print(Liam)"
   ]
  },
  {
   "cell_type": "markdown",
   "metadata": {},
   "source": [
    "## 58"
   ]
  },
  {
   "cell_type": "code",
   "execution_count": null,
   "metadata": {},
   "outputs": [
    {
     "name": "stdout",
     "output_type": "stream",
     "text": [
      "Do you wish to add (A) or remove (R) a dress?\n",
      "A\n",
      "Please enter a new dress size: 12\n",
      "Stock = [12]\n",
      "Do you wish to add (A) or remove (R) a dress?\n",
      "A\n",
      "Please enter a new dress size: 14\n",
      "Stock = [12, 14]\n",
      "Do you wish to add (A) or remove (R) a dress?\n",
      "R\n",
      "Please enter a new dress size: 12\n",
      "Stock = [14]\n",
      "Do you wish to add (A) or remove (R) a dress?\n"
     ]
    }
   ],
   "source": [
    "stock=[]\n",
    "new=0\n",
    "while True:\n",
    "    print(\"Do you wish to add (A) or remove (R) a dress?\")\n",
    "    dress=input()\n",
    "    if dress=='A':\n",
    "        new=int(input(\"Please enter a new dress size: \"))\n",
    "       \n",
    "        if new==999:\n",
    "            break\n",
    "        else:\n",
    "            stock.append(new)\n",
    "            print(\"Stock =\",stock)\n",
    "            continue\n",
    "            \n",
    "       \n",
    "    elif dress=='R' :\n",
    "        new=int(input(\"Please enter a new dress size: \"))\n",
    "        stock.remove(new)\n",
    "        if new==999:\n",
    "            break\n",
    "        else:\n",
    "            print(\"Stock =\",stock)\n",
    "            continue\n",
    "            \n",
    "        \n",
    "print(\"Stock =\",stock)\n",
    "largest=max(stock)\n",
    "smallest=min(stock)\n",
    "print(\"The largest dress in the stock is size\",largest)\n",
    "print(\"The smallest dress in the stock is size\",smallest)"
   ]
  },
  {
   "cell_type": "markdown",
   "metadata": {},
   "source": [
    "## 59\n"
   ]
  },
  {
   "cell_type": "code",
   "execution_count": null,
   "metadata": {},
   "outputs": [],
   "source": [
    "import random\n",
    "correct=0\n",
    "numbers=[]\n",
    "print(\"I have generated two random numbers.\")\n",
    "for i in range(10):\n",
    "  \n",
    "    print(\"Which is the largest, 1 or 2?\")\n",
    "    print(\"Enter your choice.\")\n",
    "    choice=int(input())\n",
    "    numbers.append(choice)\n",
    "    a=random.randint(0,1000)\n",
    "    b=random.randint(0,1000)\n",
    "    print(\"Number 1\",a)\n",
    "    print(\"Number 2\",b)\n",
    "    if a>b :\n",
    "        if numbers[i]==1:\n",
    "            correct+=1\n",
    "            print(\"Correct,Number 1 is the largest\")\n",
    "             \n",
    "        else:\n",
    "            print(\"Wrong,Number 1 is the largest\")\n",
    "            continue\n",
    "    elif b>a:\n",
    "        if numbers[i]==2:\n",
    "            print(\"Correct,Number 2 is the largest\") \n",
    "            correct+=1\n",
    "            \n",
    "        else:\n",
    "            print(\"Wrong,Number 2 is the largest\")\n",
    "            continue\n",
    "print(\"Your total was\",correct,\"correct guesses out of 10\")    \n",
    "print(\"Your final score was\",correct,\"correct.\")"
   ]
  },
  {
   "cell_type": "markdown",
   "metadata": {},
   "source": [
    "## 60"
   ]
  },
  {
   "cell_type": "code",
   "execution_count": 13,
   "metadata": {},
   "outputs": [
    {
     "name": "stdout",
     "output_type": "stream",
     "text": [
      "Enter age: 45\n",
      "Enter seat: 27\n",
      "Do you wish to enter another: Y\n",
      "Enter age: 89\n",
      "Enter seat: 4\n",
      "Do you wish to enter another: 0\n",
      "The oldest audience member is sitting in seat 4\n",
      "0 audience members did not give their age.\n"
     ]
    }
   ],
   "source": [
    "Seat=[]\n",
    "Age=[]\n",
    "while True:\n",
    "    age=int(input(\"Enter age: \"))\n",
    "    seat=int(input(\"Enter seat: \"))\n",
    "    choice=input(\"Do you wish to enter another: \")\n",
    "    Seat.append(seat)\n",
    "    Age.append(age)\n",
    "    C=Age.index(max(Age))\n",
    "    if choice=='Y':\n",
    "        continue\n",
    "    else:\n",
    "        break\n",
    "        \n",
    "print(\"The oldest audience member is sitting in seat\",Seat[C])\n",
    "print(Age.count(0),\"audience members did not give their age.\")\n",
    "        "
   ]
  },
  {
   "cell_type": "markdown",
   "metadata": {},
   "source": [
    "## 61"
   ]
  },
  {
   "cell_type": "code",
   "execution_count": 11,
   "metadata": {},
   "outputs": [
    {
     "name": "stdout",
     "output_type": "stream",
     "text": [
      "Please enter the judges' scores:\n",
      "7,8,6,9,6,8,4\n",
      "Please enter the difficulty rating:\n",
      "3.4\n",
      "The three remaining judges' scores are:\n",
      "7\n",
      "6\n",
      "8\n",
      "The diver's score is: 71.4\n"
     ]
    }
   ],
   "source": [
    "print(\"Please enter the judges' scores:\")\n",
    "scores=[int(i) for i in input().split(\",\")]\n",
    "print(\"Please enter the difficulty rating:\")\n",
    "rating=float(input())\n",
    "dive=0\n",
    "for i in range(2):\n",
    "    scores.remove(max(scores))\n",
    "    scores.remove(min(scores))\n",
    "print(\"The three remaining judges' scores are:\")    \n",
    "for j in range(3):\n",
    "    print(scores[j])\n",
    "    dive+=scores[j]*rating\n",
    "print(\"The diver's score is:\",dive)  "
   ]
  },
  {
   "cell_type": "markdown",
   "metadata": {},
   "source": [
    "## 62"
   ]
  },
  {
   "cell_type": "code",
   "execution_count": 3,
   "metadata": {},
   "outputs": [
    {
     "name": "stdout",
     "output_type": "stream",
     "text": [
      "Dice rolled =  6\n",
      "After roll 1 : [6]\n",
      "Dice rolled =  4\n",
      "After roll 2 : [6, 4]\n",
      "Dice rolled =  1\n",
      "After roll 3 : [6, 4, 1]\n",
      "Dice rolled =  6\n",
      "After roll 4 : [4, 1]\n",
      "Dice rolled =  2\n",
      "After roll 5 : [4, 1, 2]\n",
      "Dice rolled =  5\n",
      "After roll 6 : [4, 1, 2, 5]\n",
      "Dice rolled =  3\n",
      "After roll 7 : [4, 1, 2, 5, 3]\n",
      "Dice rolled =  5\n",
      "After roll 8 : [4, 1, 2, 3]\n",
      "Dice rolled =  4\n",
      "After roll 9 : [1, 2, 3]\n",
      "Dice rolled =  3\n",
      "After roll 10 : [1, 2]\n",
      "Dice rolled =  4\n",
      "After roll 11 : [1, 2, 4]\n",
      "Dice rolled =  1\n",
      "After roll 12 : [2, 4]\n",
      "Dice rolled =  4\n",
      "After roll 13 : [2]\n",
      "Dice rolled =  5\n",
      "After roll 14 : [2, 5]\n",
      "Dice rolled =  5\n",
      "After roll 15 : [2]\n",
      "Dice rolled =  6\n",
      "After roll 16 : [2, 6]\n",
      "Dice rolled =  4\n",
      "After roll 17 : [2, 6, 4]\n",
      "Dice rolled =  2\n",
      "After roll 18 : [6, 4]\n",
      "Dice rolled =  4\n",
      "After roll 19 : [6]\n",
      "Dice rolled =  1\n",
      "After roll 20 : [6, 1]\n",
      "Dice rolled =  6\n",
      "After roll 21 : [1]\n",
      "Dice rolled =  6\n",
      "After roll 22 : [1, 6]\n",
      "Dice rolled =  2\n",
      "After roll 23 : [1, 6, 2]\n",
      "Dice rolled =  2\n",
      "After roll 24 : [1, 6]\n",
      "Dice rolled =  5\n",
      "After roll 25 : [1, 6, 5]\n",
      "Dice rolled =  3\n",
      "After roll 26 : [1, 6, 5, 3]\n",
      "Dice rolled =  6\n",
      "After roll 27 : [1, 5, 3]\n",
      "Dice rolled =  3\n",
      "After roll 28 : [1, 5]\n",
      "Dice rolled =  5\n",
      "After roll 29 : [1]\n",
      "Dice rolled =  6\n",
      "After roll 30 : [1, 6]\n",
      "Dice rolled =  2\n",
      "After roll 31 : [1, 6, 2]\n",
      "Dice rolled =  4\n",
      "After roll 32 : [1, 6, 2, 4]\n",
      "Dice rolled =  1\n",
      "After roll 33 : [6, 2, 4]\n",
      "Dice rolled =  5\n",
      "After roll 34 : [6, 2, 4, 5]\n",
      "Dice rolled =  6\n",
      "After roll 35 : [2, 4, 5]\n",
      "Dice rolled =  3\n",
      "After roll 36 : [2, 4, 5, 3]\n",
      "Dice rolled =  3\n",
      "After roll 37 : [2, 4, 5]\n",
      "Dice rolled =  3\n",
      "After roll 38 : [2, 4, 5, 3]\n",
      "Dice rolled =  3\n",
      "After roll 39 : [2, 4, 5]\n",
      "Dice rolled =  5\n",
      "After roll 40 : [2, 4]\n",
      "Dice rolled =  1\n",
      "After roll 41 : [2, 4, 1]\n",
      "Dice rolled =  3\n",
      "After roll 42 : [2, 4, 1, 3]\n",
      "Dice rolled =  6\n",
      "After roll 43 : [2, 4, 1, 3, 6]\n",
      "Dice rolled =  5\n",
      "After roll 44 : [2, 4, 1, 3, 6, 5]\n",
      "Game completed in 44 rols of dice.\n"
     ]
    }
   ],
   "source": [
    "import random                                                   \n",
    "dice=0\n",
    "roll=[]\n",
    "R=0\n",
    "a=0\n",
    "while  len(roll)!=6:\n",
    "    r=random.randint(1,6)\n",
    "    print(\"Dice rolled = \",r)\n",
    "\n",
    "    if roll.count(r)==0:\n",
    "            roll.append(r)\n",
    "    else:\n",
    "           roll.remove(r)\n",
    "    R+=1\n",
    "    print(\"After roll\",R,\":\",roll) \n",
    "           \n",
    "print(\"Game completed in\",R,\"rols of dice.\") "
   ]
  }
 ],
 "metadata": {
  "kernelspec": {
   "display_name": "Python 3 (ipykernel)",
   "language": "python",
   "name": "python3"
  },
  "language_info": {
   "codemirror_mode": {
    "name": "ipython",
    "version": 3
   },
   "file_extension": ".py",
   "mimetype": "text/x-python",
   "name": "python",
   "nbconvert_exporter": "python",
   "pygments_lexer": "ipython3",
   "version": "3.9.7"
  }
 },
 "nbformat": 4,
 "nbformat_minor": 4
}
